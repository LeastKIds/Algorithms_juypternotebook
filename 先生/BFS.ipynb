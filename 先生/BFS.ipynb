{
 "cells": [
  {
   "cell_type": "code",
   "execution_count": 7,
   "metadata": {},
   "outputs": [
    {
     "name": "stdout",
     "output_type": "stream",
     "text": [
      "[False, False, False, False, False, False, False, False, False]\n",
      "1 2 3 8 7 4 5 6 "
     ]
    }
   ],
   "source": [
    "from collections import deque\n",
    "def bfs(start):\n",
    "  # 큐(Queue) 구현을 위해 deque 라이브러리를 사용\n",
    "  # 1. 탐색 시작 노드를 큐에 삽입하고 방문 처리를 한다.\n",
    "  queue = deque([start])\n",
    "  visited[start] = True\n",
    "\n",
    "  # 2. 큐에서 노드를 꺼내 해당 노드의 인접 노드 중에서 방문하지 않은 노드를 모두 큐에 삽입하고 방문처리한다.add()\n",
    "  # 3. 2번으 ㅣ과정을 더 이상 수행하 수 없을 때까지 반복(큐가 empty가 될 때까지 반복)\n",
    "  # 큐가 빌 때까지 반복\n",
    "  while queue:\n",
    "    v = queue.popleft()\n",
    "    # print(v, end=' ')\n",
    "    # print(queue)\n",
    "    for node in graph[v]:\n",
    "      if not visited[node]:\n",
    "        queue.append(node)\n",
    "        print(node, end=' ')\n",
    "        visited[node] = True\n",
    "\n",
    "\n",
    "\n",
    "graph = [\n",
    "    [],\n",
    "    [2,3,8],\n",
    "    [1,7], \n",
    "    [1,4,5],\n",
    "    [3,5],\n",
    "    [3,4],\n",
    "    [7],\n",
    "    [2,6,8],\n",
    "    [1,7]\n",
    "]\n",
    "\n",
    "visited = [False] * 9\n",
    "print(visited)\n",
    "\n",
    "print(1, end=' ')\n",
    "bfs(1)"
   ]
  }
 ],
 "metadata": {
  "kernelspec": {
   "display_name": "Python 3.8.8 ('base')",
   "language": "python",
   "name": "python3"
  },
  "language_info": {
   "codemirror_mode": {
    "name": "ipython",
    "version": 3
   },
   "file_extension": ".py",
   "mimetype": "text/x-python",
   "name": "python",
   "nbconvert_exporter": "python",
   "pygments_lexer": "ipython3",
   "version": "3.8.8"
  },
  "orig_nbformat": 4,
  "vscode": {
   "interpreter": {
    "hash": "9b1a57eec7db50c66ee995f076469c67a9116dccba1a3c55637ba43ceeae1332"
   }
  }
 },
 "nbformat": 4,
 "nbformat_minor": 2
}