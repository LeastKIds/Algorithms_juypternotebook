{
 "cells": [
  {
   "cell_type": "code",
   "execution_count": 3,
   "metadata": {},
   "outputs": [
    {
     "name": "stdout",
     "output_type": "stream",
     "text": [
      "[False, False, False, False, False, False, False, False, False]\n",
      "1 2 7 6 8 3 4 5 "
     ]
    }
   ],
   "source": [
    "# DFS \n",
    "# 각 노드가 연결된 정로를 리스트 자료형으로 표현(2차원 리스트)\n",
    "graph = [\n",
    "    [],\n",
    "    [2,3,8],\n",
    "    [1,7], \n",
    "    [1,4,5],\n",
    "    [3,5],\n",
    "    [3,4],\n",
    "    [7],\n",
    "    [2,6,8],\n",
    "    [1,7]\n",
    "]\n",
    "\n",
    "# graph[1] => [2,3,8]\n",
    "\n",
    "# 각 노드가 방문된 정보를 리스트 자료형으로 표현(1차원 리스트)\n",
    "visited = [False] * 9\n",
    "print(visited)\n",
    "\n",
    "def dfs(v) :\n",
    "    # 현재 노드를 방문처리\n",
    "    visited[v] = True\n",
    "    print(v, end=' ')\n",
    "\n",
    "    # 현재 노드의 (스택의 최상위 노드)의 인접 노드를 살펴본다. \n",
    "    for node in graph[v] :\n",
    "        # 그 인접노드가 방문하지 않은 노드라면 스택에 넣고 방문처리한다. (그 인접 노드 번호로 재귀함수 호출)\n",
    "        if visited[node] == False : # 방문하지 않은 노드. if not visited[node]\n",
    "            dfs(node)\n",
    "dfs(1)\n"
   ]
  },
  {
   "cell_type": "code",
   "execution_count": 5,
   "metadata": {},
   "outputs": [
    {
     "name": "stdout",
     "output_type": "stream",
     "text": [
      "1 2 7 6 8 3 4 5 "
     ]
    }
   ],
   "source": [
    "# stack을 이용해 구현한 버전\n",
    "\n",
    "def dfs(v) :\n",
    "    stack = []\n",
    "    stack.append(v)\n",
    "    visited[v]= True\n",
    "    print(v, end= ' ')\n",
    "\n",
    "    # 아래를 더 이상 수행할 수 없을 때까지 반복한다. (스택이 EMPTY가 될 때까지 반복)\n",
    "        # 스택의 최상단 노드에 방문하지 않은 인접 노드가 있으면 그 인접 노드를 스택에 넣고 방문 처리를 한다. \n",
    "        # 방문하지 않은 인접 노드가 없으면 스택에서 최상단 노드를 꺼낸다. \n",
    "    while len(stack) > 0 :\n",
    "        v = stack[-1] # 스택의 최상단 노드\n",
    "        \n",
    "        for node in graph[v] : # 스택 최상단 노드의 인접 노드들에 대해서 아래와 같이 수행\n",
    "            if not visited[node] : # 방문되지 않은 인접 노드라면\n",
    "                stack.append(node) \n",
    "                visited[node] = True\n",
    "                print(node, end=' ')\n",
    "                break\n",
    "            \n",
    "        # for 문을 다 돌고 나서도 stack의 최상위 노드가 그 전과 동일하면 \n",
    "        # 스택 최상위 노드의 모든 인접 노드를 방문했다는 의미\n",
    "        if stack[-1] == v :  \n",
    "            stack.pop()\n",
    "\n",
    "# 각 노드가 연결된 정로를 리스트 자료형으로 표현(2차원 리스트)\n",
    "graph = [\n",
    "    [],\n",
    "    [2,3,8],\n",
    "    [1,7], \n",
    "    [1,4,5],\n",
    "    [3,5],\n",
    "    [3,4],\n",
    "    [7],\n",
    "    [2,6,8],\n",
    "    [1,7]\n",
    "]\n",
    "\n",
    "# graph[1] => [2,3,8]\n",
    "\n",
    "# 각 노드가 방문된 정보를 리스트 자료형으로 표현(1차원 리스트)\n",
    "visited = [False] * 9\n",
    "\n",
    "dfs(1)"
   ]
  }
 ],
 "metadata": {
  "kernelspec": {
   "display_name": "Python 3.10.8 64-bit (microsoft store)",
   "language": "python",
   "name": "python3"
  },
  "language_info": {
   "codemirror_mode": {
    "name": "ipython",
    "version": 3
   },
   "file_extension": ".py",
   "mimetype": "text/x-python",
   "name": "python",
   "nbconvert_exporter": "python",
   "pygments_lexer": "ipython3",
   "version": "3.10.8"
  },
  "orig_nbformat": 4,
  "vscode": {
   "interpreter": {
    "hash": "3b7e9cb8e453d6cda0fe8c8dd13f891a1f09162f0e7c66ffeae7751a7aecf00d"
   }
  }
 },
 "nbformat": 4,
 "nbformat_minor": 2
}
