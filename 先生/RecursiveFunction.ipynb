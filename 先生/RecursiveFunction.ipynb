{
 "cells": [
  {
   "cell_type": "code",
   "execution_count": 1,
   "metadata": {},
   "outputs": [
    {
     "name": "stdout",
     "output_type": "stream",
     "text": [
      "10: 재귀 함수를 호출합니다.\n",
      "9: 재귀 함수를 호출합니다.\n",
      "8: 재귀 함수를 호출합니다.\n",
      "7: 재귀 함수를 호출합니다.\n",
      "6: 재귀 함수를 호출합니다.\n",
      "5: 재귀 함수를 호출합니다.\n",
      "4: 재귀 함수를 호출합니다.\n",
      "3: 재귀 함수를 호출합니다.\n",
      "2: 재귀 함수를 호출합니다.\n",
      "1: 재귀 함수를 호출합니다.\n",
      "2번 재귀함수를 종료합니다.\n",
      "3번 재귀함수를 종료합니다.\n",
      "4번 재귀함수를 종료합니다.\n",
      "5번 재귀함수를 종료합니다.\n",
      "6번 재귀함수를 종료합니다.\n",
      "7번 재귀함수를 종료합니다.\n",
      "8번 재귀함수를 종료합니다.\n",
      "9번 재귀함수를 종료합니다.\n",
      "10번 재귀함수를 종료합니다.\n"
     ]
    }
   ],
   "source": [
    "def recursive_function(n) :\n",
    "    print(str(n) + ': 재귀 함수를 호출합니다.')\n",
    "    \n",
    "    if n <= 1 : \n",
    "        return\n",
    "    recursive_function(n-1)\n",
    "\n",
    "    print (str(n) + \"번 재귀함수를 종료합니다.\")\n",
    "\n",
    "\n",
    "recursive_function(10)"
   ]
  },
  {
   "cell_type": "code",
   "execution_count": 2,
   "metadata": {},
   "outputs": [
    {
     "name": "stdout",
     "output_type": "stream",
     "text": [
      "55\n",
      "66\n"
     ]
    }
   ],
   "source": [
    "# 재귀함수를 이용해 1부터 10까지 더하기\n",
    "def sum(n) :\n",
    "    if n < 1 :\n",
    "        return n\n",
    "    \n",
    "    return n + sum(n-1)\n",
    "\n",
    "print(sum(10)) # 55가 출력\n",
    "print(sum(11)) # 66이 출력\n"
   ]
  }
 ],
 "metadata": {
  "kernelspec": {
   "display_name": "Python 3.10.7 64-bit (microsoft store)",
   "language": "python",
   "name": "python3"
  },
  "language_info": {
   "codemirror_mode": {
    "name": "ipython",
    "version": 3
   },
   "file_extension": ".py",
   "mimetype": "text/x-python",
   "name": "python",
   "nbconvert_exporter": "python",
   "pygments_lexer": "ipython3",
   "version": "3.10.7"
  },
  "orig_nbformat": 4,
  "vscode": {
   "interpreter": {
    "hash": "3b7e9cb8e453d6cda0fe8c8dd13f891a1f09162f0e7c66ffeae7751a7aecf00d"
   }
  }
 },
 "nbformat": 4,
 "nbformat_minor": 2
}
