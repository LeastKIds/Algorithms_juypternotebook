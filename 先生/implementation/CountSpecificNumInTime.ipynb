{
 "cells": [
  {
   "cell_type": "markdown",
   "metadata": {},
   "source": [
    "#### 시각\n",
    "* 난이도 : 1, 풀이 시간: 15분, 시간 제한: 2초, 메모리 제한 128MB\n",
    "* **입력 조건** : 첫째 줄에 정수 N이 입력된다. (0 <= N <= 23)\n",
    "* **출력 조건** : 00시 00분 00초붜 N시 59분 59초까지의 모든 시각 중에서 3이 하나라도 포함되는 모든 경우의 수를 출력\n",
    "* **입력 예시**\n",
    "    * 5\n",
    "* **출력 예시**\n",
    "    * 11475"
   ]
  },
  {
   "cell_type": "code",
   "execution_count": 5,
   "metadata": {},
   "outputs": [
    {
     "name": "stdout",
     "output_type": "stream",
     "text": [
      "11475\n"
     ]
    }
   ],
   "source": [
    "# N을 입력받기\n",
    "n = int(input())\n",
    "\n",
    "count = 0\n",
    "\n",
    "# 0시부터 N시까지 각 시간에 대해 반복 h :\n",
    "for h in range(n+1) :\n",
    "    # 0분부터 59분까지 각 분에 대해 반복 m:\n",
    "        for m in range(60) :\n",
    "        # 0초부터 59초까지 각 초에 대해 반복 s:\n",
    "            for s in range(60) :\n",
    "            # h m s 3이 하나라도 포함되어 있는지 검사하고, 그렇다면 count를 1증가시킴\n",
    "                str_time = str(h) + str(m) + str(s)\n",
    "                if '3' in str_time :\n",
    "                    count += 1\n",
    "\n",
    "print(count)"
   ]
  },
  {
   "cell_type": "code",
   "execution_count": 4,
   "metadata": {},
   "outputs": [
    {
     "name": "stdout",
     "output_type": "stream",
     "text": [
      "True\n"
     ]
    }
   ],
   "source": [
    "result = '3' in '동해물과3 백두산이 3마르고 닳도록'\n",
    "print(result)"
   ]
  }
 ],
 "metadata": {
  "kernelspec": {
   "display_name": "Python 3.10.7 64-bit (microsoft store)",
   "language": "python",
   "name": "python3"
  },
  "language_info": {
   "codemirror_mode": {
    "name": "ipython",
    "version": 3
   },
   "file_extension": ".py",
   "mimetype": "text/x-python",
   "name": "python",
   "nbconvert_exporter": "python",
   "pygments_lexer": "ipython3",
   "version": "3.10.7"
  },
  "orig_nbformat": 4,
  "vscode": {
   "interpreter": {
    "hash": "3b7e9cb8e453d6cda0fe8c8dd13f891a1f09162f0e7c66ffeae7751a7aecf00d"
   }
  }
 },
 "nbformat": 4,
 "nbformat_minor": 2
}
