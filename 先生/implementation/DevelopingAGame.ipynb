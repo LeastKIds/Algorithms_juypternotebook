{
 "cells": [
  {
   "cell_type": "markdown",
   "metadata": {},
   "source": [
    "#### 게임 개발\n",
    "* 난이도 : 2/3, 풀이 시간 : 40분, 시간 제한 : 1초, 메모리 제한 : 128MB\n",
    "* 맵의 각 칸은 (A, B)로 나타낼 수 있고, A는 북쪽으로부터 떨어진 칸의 개수, B는 서쪽으로부터 떨어진 칸의 개수\n",
    "* 캐릭터는 상하좌우로 움직일 수 있고\n",
    "* 바다로 되어 있는 공간에는 갈 수 없다. \n",
    "* 캐릭의 움직임을 설정하기 위해 정해 놓은 매뉴얼은 이러하다.\n",
    "    * 현재 위치에서 현재 방향을 기준으로 왼쪽 방향(반시계 방향으로 90도 회전한 방향)부터 차례대로 갈 곳을 정한다.\n",
    "    * 캐릭터의 바로 왼쪽 방향에 아직 가보지 않은 칸이 존재한다면, 왼쪽 방향으로 회전한 다음 왼쪽으로 한 칸을 전진한다.\n",
    "    * 왼쪽 방향에 가보지 않은 칸이 없다면, 왼쪽 방향으로 회전만 수행하고 1단계로 돌아간다. \n",
    "    * 만약 네 방행 모두 이미 이미 가본 칸이거나 바다로 되어 있는 칸인 경우에는, 바라보는 방향을 유지한 채로 한 칸 뒤로 가고 1단계로 돌아간다. 단, 이때 뒤쪽 방향이 바다인 칸이라 뒤로 갈 수 없는 경우에는 움직임을 멈춘다. "
   ]
  },
  {
   "cell_type": "markdown",
   "metadata": {},
   "source": [
    "* **입력 조건**\n",
    "    * 첫째 줄에 맵의 세로 크기 n과, 가로 크기 m을 공백으로 구분하여 입력한다. (3 <= n,m <= 50)\n",
    "    * 둘째 줄에 게임 캐릭터가 있는 칸의 좌표 (A, B)와 바라보는 방향 d가 각각 서로 공백으로 구분하여 주어진다. \n",
    "    * 방향 d의 값으로 다음과 같이 4가지가 존재한다.\n",
    "        * 0 : 북쪽\n",
    "        * 1 : 동쪽\n",
    "        * 2 : 남쪽\n",
    "        * 3 : 서쪽\n",
    "    * 셋째 줄부터 맵이 육지인지 바다인지에 대한 정보가 주어진다. N의 줄에 맵의 상태가 북쪽부터 남쪽 순서대로, 각 줄의 데이터는 서쪽부터 동쪽 순서대로 주어진다. 맵의 외곽은 항상 바다로 되어 있다. \n",
    "        * 0 : 육지\n",
    "        * 1 : 바다\n",
    "    * 처음에 게임 캐릭터가 위치한 칸의 상태는 항상 육지다. \n",
    "* **출력 조건**\n",
    "    * 첫째 줄에 이동을 마친 후, 캐릭터가 방문한 칸의 수를 출력한다. \n",
    "* **입력 예시**\n",
    "    ```\n",
    "    4 4\n",
    "    1 1 0\n",
    "    1 1 1 1\n",
    "    1 0 0 1\n",
    "    1 1 0 1\n",
    "    1 1 1 1\n",
    "    ```\n",
    "* **출력 예시**\n",
    "    * 3\n",
    "\n"
   ]
  },
  {
   "cell_type": "code",
   "execution_count": 1,
   "metadata": {},
   "outputs": [
    {
     "name": "stdout",
     "output_type": "stream",
     "text": [
      "3\n"
     ]
    }
   ],
   "source": [
    "# N, M을 공백으로 구분하여 입력받기\n",
    "n, m = map(int, input().split())\n",
    "\n",
    "# 방문한 위치를 저장하기 위한 맵을 생성하여 0으로 초기화\n",
    "# n, m : 3, 3\n",
    "#  [\n",
    "#   [0, 0, 0]\n",
    "#   [0, 0, 0]\n",
    "#   [0, 0, 0]\n",
    "# ]\n",
    "d = [[0] * m for _ in range(n)]\n",
    "\n",
    "# 현재 캐릭터의 A, B, direction\n",
    "a, b, direction = map(int, input().split())\n",
    "\n",
    "# 현재 캐릭터의 위치, (a,b)는 방문한 것으로 처리\n",
    "d[a][b] = 1\n",
    "\n",
    "# 전체 맵 정보를 저장하기 위한 2차원 리스트\n",
    "my_map = []\n",
    "for i in range(n) : \n",
    "    # 각 행의 열 값들을 입력받는다. \n",
    "    my_map.append(list(map(int, input().split())))\n",
    "    # 1 1 0 => map[[1, 1, 0], [1, 0, 0]]\n",
    "\n",
    "# 북, 동, 남, 서 방향 정의\n",
    "da = [-1, 0, 1, 0]\n",
    "db = [0, 1, 0, -1]\n",
    "\n",
    "# 북:0, 동:1, 남:2, 서:3\n",
    "# 왼쪽으로 회전 \n",
    "\n",
    "def turn_left() :\n",
    "    global direction \n",
    "    direction -= 1\n",
    "\n",
    "    if direction == -1 :\n",
    "        direction = 3\n",
    "\n",
    "# 시뮬레이션 시작 \n",
    "count = 1 # 캐릭터가 방문한 칸의 개수\n",
    "turn_count = 0 \n",
    "\n",
    "while True :\n",
    "    # 왼쪽으로 회전\n",
    "    turn_left()\n",
    "    na = a + da[direction]\n",
    "    nb = b + db[direction]\n",
    "\n",
    "    # 왼쪽으로 회전해서 전진할 칸이 가본 칸이 아니고, 육지이면 \n",
    "    if d[na][nb] == 0 and my_map[na][nb] == 0 :\n",
    "        d[na][nb] = 1 # 가본 칸으로 마킹\n",
    "        a = na\n",
    "        b = nb\n",
    "        count += 1 # 가본 칸의 수를 1 증가시킴\n",
    "        turn_count = 0\n",
    "        continue\n",
    "    else :\n",
    "        turn_count += 1\n",
    "    \n",
    "    # 네 방향 모두 갈 수 없었는지 학인\n",
    "    if turn_count == 4 : # 뒤로 한 칸 후진\n",
    "        na = a - da[direction]\n",
    "        nb = b - db[direction]\n",
    "\n",
    "        # 뒤로 한 칸 이동할수 있는지, 즉 육지인지 확인\n",
    "        if my_map[na][nb] == 0 :\n",
    "            a = na\n",
    "            b = nb\n",
    "        # 뒤가 바다라서 이동할 수 없는 경우, \n",
    "        else : \n",
    "            break\n",
    "\n",
    "        turn_count = 0\n",
    "\n",
    "# 정답출력\n",
    "print(count)"
   ]
  }
 ],
 "metadata": {
  "kernelspec": {
   "display_name": "Python 3.10.7 64-bit (microsoft store)",
   "language": "python",
   "name": "python3"
  },
  "language_info": {
   "codemirror_mode": {
    "name": "ipython",
    "version": 3
   },
   "file_extension": ".py",
   "mimetype": "text/x-python",
   "name": "python",
   "nbconvert_exporter": "python",
   "pygments_lexer": "ipython3",
   "version": "3.10.7"
  },
  "orig_nbformat": 4,
  "vscode": {
   "interpreter": {
    "hash": "3b7e9cb8e453d6cda0fe8c8dd13f891a1f09162f0e7c66ffeae7751a7aecf00d"
   }
  }
 },
 "nbformat": 4,
 "nbformat_minor": 2
}
