{
 "cells": [
  {
   "cell_type": "markdown",
   "metadata": {},
   "source": [
    "#### 왕실의 나이트\n",
    "* 나이트는 이동할 때는 L자 형태로만 이동할 수 있으며, 정원 밖으로는 나갈 수 없다. \n",
    "* 나이트는 특정한 위치에서 다음과 같은 2가지 경우로 이동할 수 있다. \n",
    "    * 수평으로 두 칸 이동한 뒤에 수직으로 한 칸 이동하기\n",
    "    * 수직으로 두 칸 이동한 뒤에 수평으로 한 칸 이동하기\n",
    "* 왕실의 정원에서 행 위치를 표현할 때는 1부터 8로 표현, 열 위치를 표현할 때는 a부터 h로 표현\n",
    "* **입력 조건**\n",
    "    * 첫째 줄에 8x8 좌표 평면상에서 현재 나이트가 위차한 곳의 좌표를 나타내는 두 문자로 구성된 문자열이 입력된다. \n",
    "    * 입력 문자는 a1처럼 열과 행으로 이뤄진다.\n",
    "* **출력 조건**\n",
    "    * 첫째 줄에 나이트가 이동할 수 있는 경우의 수를 출력\n",
    "* **입력 예시**\n",
    "    * a1\n",
    "* **출력 예시**\n",
    "    * 2\n"
   ]
  },
  {
   "cell_type": "code",
   "execution_count": 9,
   "metadata": {},
   "outputs": [
    {
     "name": "stdout",
     "output_type": "stream",
     "text": [
      "6\n"
     ]
    }
   ],
   "source": [
    "# 현재 나이트의 위치 입력받기\n",
    "data = input()\n",
    "# print(data[0])\n",
    "# print(data[1])\n",
    "row = int(data[1])\n",
    "col = ord(data[0]) - ord('a') + 1\n",
    "\n",
    "# 나이트가 이동할 수 있는 8가지 방향 정의\n",
    "steps = [(-2, -1), (-1, -2), (1, -2), (2, -1), (2, 1), (1, 2), (-1, 2), (-2, 1)]\n",
    "result = 0\n",
    "\n",
    "# 나이트가 이동할 수 있는 8가지 방향 각각에 대해서 현재 좌표를 기준으로 움직였을 때 정원 안인 경우의 수를 계산\n",
    "for step in steps :\n",
    "    # print(step)\n",
    "    # print(step[0], ', ', step[1])\n",
    "    next_row = row + step[0]\n",
    "    next_col = col + step[1]\n",
    "    # 정원 안이면 result를 1증가 시키자\n",
    "    if next_row >= 1 and next_row <= 8 and next_col >= 1 and next_col <= 8 :\n",
    "        result += 1\n",
    "\n",
    "print(result)"
   ]
  },
  {
   "cell_type": "code",
   "execution_count": 5,
   "metadata": {},
   "outputs": [
    {
     "name": "stdout",
     "output_type": "stream",
     "text": [
      "97\n",
      "98\n",
      "99\n"
     ]
    }
   ],
   "source": [
    "codevalue = ord('a')\n",
    "print(codevalue)\n",
    "\n",
    "codevalue = ord('b')\n",
    "print(codevalue)\n",
    "\n",
    "codevalue = ord('c')\n",
    "print(codevalue)"
   ]
  }
 ],
 "metadata": {
  "kernelspec": {
   "display_name": "Python 3.10.7 64-bit (microsoft store)",
   "language": "python",
   "name": "python3"
  },
  "language_info": {
   "codemirror_mode": {
    "name": "ipython",
    "version": 3
   },
   "file_extension": ".py",
   "mimetype": "text/x-python",
   "name": "python",
   "nbconvert_exporter": "python",
   "pygments_lexer": "ipython3",
   "version": "3.10.7"
  },
  "orig_nbformat": 4,
  "vscode": {
   "interpreter": {
    "hash": "3b7e9cb8e453d6cda0fe8c8dd13f891a1f09162f0e7c66ffeae7751a7aecf00d"
   }
  }
 },
 "nbformat": 4,
 "nbformat_minor": 2
}
