{
 "cells": [
  {
   "cell_type": "markdown",
   "metadata": {},
   "source": [
    "#### 상하좌우\n",
    "* **입력 조건**\n",
    "    * 첫째 줄에 공간의 크기를 나타내는 N이 주어진다. (1 <= N <= 100)\n",
    "    * 둘째 줄에 여행가 A가 이동할 계획이 주어진다. (1 <= 이동횟수 <= 100)\n",
    "* **출력 조건**\n",
    "    * 첫째 줄에 여행가 A가 최종적으로 도착할 지점의 좌표 (X, Y)를 공백으로 구분하여 출력한다.\n",
    "* **입력 예시**\n",
    "    * 5\n",
    "    * R R R U D\n",
    "* **출력 예시**\n",
    "    * 3 4"
   ]
  },
  {
   "cell_type": "code",
   "execution_count": 4,
   "metadata": {},
   "outputs": [
    {
     "name": "stdout",
     "output_type": "stream",
     "text": [
      "['L', 'R', 'U', 'D']\n"
     ]
    }
   ],
   "source": [
    "# N 입력 입력받기\n",
    "n = int(input())\n",
    "# print(type(n))\n",
    "\n",
    "# 여행가 A의 시작 좌표는 항상 (1, 1)\n",
    "x, y = 1, 1\n",
    "\n",
    "# 여행가의 이동계획을 입력받는다. \n",
    "plan = input().split()\n",
    "print(plan)\n",
    "\n",
    "# L, R, U, D에 따른 이동 방향\n",
    "dx = [0, 0, -1, 1]\n",
    "dy =[-1, 1, 0, 0]\n",
    "move_types= ['L', 'R', 'U', 'D']\n",
    "\n",
    "# 이동 계획을 하나씩 확인\n",
    "for p in plan :\n",
    "\n",
    "    # 현재 이동 계획에 해당하는 좌표를 구한다.\n",
    "    for i in range(len(move_types)) :\n",
    "        if p == move_types[i] :\n",
    "            nx = x + dx[i]\n",
    "            ny = y + dy[i]\n",
    "            break\n",
    "\n",
    "    # 공간을 벗어나면 무시\n",
    "    if nx < 1 or ny < 1 or nx > n or ny > n :\n",
    "        continue\n",
    "\n",
    "    # 공간을 벗어나지 않으면 x, y 좌표에 반영한다. \n",
    "    x, y = nx, ny \n",
    "    \n",
    "# x, y  좌표를 출력\n",
    "print(x, y)"
   ]
  }
 ],
 "metadata": {
  "kernelspec": {
   "display_name": "Python 3.10.7 64-bit (microsoft store)",
   "language": "python",
   "name": "python3"
  },
  "language_info": {
   "codemirror_mode": {
    "name": "ipython",
    "version": 3
   },
   "file_extension": ".py",
   "mimetype": "text/x-python",
   "name": "python",
   "nbconvert_exporter": "python",
   "pygments_lexer": "ipython3",
   "version": "3.10.7"
  },
  "orig_nbformat": 4,
  "vscode": {
   "interpreter": {
    "hash": "3b7e9cb8e453d6cda0fe8c8dd13f891a1f09162f0e7c66ffeae7751a7aecf00d"
   }
  }
 },
 "nbformat": 4,
 "nbformat_minor": 2
}
