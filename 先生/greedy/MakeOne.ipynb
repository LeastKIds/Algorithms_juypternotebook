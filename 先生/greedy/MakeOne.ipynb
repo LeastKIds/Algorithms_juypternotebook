{
 "cells": [
  {
   "cell_type": "markdown",
   "metadata": {},
   "source": [
    "#### 1이 될 때까지\n",
    "* 어떠한 수 N이 1이 될 때까지 다음의 두 과정 중 하나를 반복적으로 수행한다. \n",
    "* 두 번째 연산은 N이 K로 나누어 떨어질 때만 선택할 수 있다. \n",
    "    * 1. N에서 1을 뺀다.\n",
    "    * 2. N을 K로 나눈다.      \n",
    "* 입력 조건 \n",
    "    * 첫째줄에 N(1 <=  )"
   ]
  },
  {
   "cell_type": "code",
   "execution_count": null,
   "metadata": {},
   "outputs": [],
   "source": [
    "# N, K를 공백을 기준으로 구분하여 입력 받기\n",
    "n, k = map(int, input().split())\n",
    "\n",
    "result = 0 \n",
    "\n",
    "# n이 k이상인 동안 루프를 돌면서 아래를 수행한다. \n",
    "    # 1. n이 k로 나누어질 때까지 1씩 빼면서 result 를 1씩 증가시킨다. \n",
    "    # 2. n을 k로 나눈 값으로 설정하고 result를 1 증가 시킨다. \n",
    "while n >= k :\n",
    "    while n%k != 0:\n",
    "        n -= 1\n",
    "        result += 1\n",
    "    n //= k    \n",
    "    result += 1\n",
    "\n",
    "# n이 1보다 큰 동안 루프를 돌면서 아래를 수행\n",
    "    # 1. n=n-1\n",
    "    # 2. result += 1\n",
    "while n > 1 :\n",
    "    n -= 1\n",
    "    result += 1\n",
    "\n",
    "print(result)"
   ]
  },
  {
   "cell_type": "markdown",
   "metadata": {},
   "source": [
    "* 예를 들어 N이 25이고 K가 3이면 \n",
    "    * 다음을 반복한다. \n",
    "        * N에 가장 가까운 K의 배수를 찾는다. => 8\n",
    "        * N - (8*3)만큼의 횟수로 1을 빼는 작업을 해야한다. \n",
    "            * result = result + (N-(N//K)*K)\n",
    "        * N = (N//K)*K\n",
    "        * 여기까지 왔다면 N은 K로 나누어 진다. \n",
    "            * N = N//K\n",
    "            * result += 1\n",
    "        * 만약  N이 K보다 작다면 루프를 빠져나간다. \n",
    "    * 여기까지 왔다면 N은 무조건 K보다 작다.\n",
    "    * 1이 될 때까지 1을 빼는 연산을 (N-1)번 수행해야 한다.\n",
    "        * result = result + (N-1)"
   ]
  }
 ],
 "metadata": {
  "kernelspec": {
   "display_name": "Python 3.10.6 64-bit",
   "language": "python",
   "name": "python3"
  },
  "language_info": {
   "name": "python",
   "version": "3.10.6"
  },
  "orig_nbformat": 4,
  "vscode": {
   "interpreter": {
    "hash": "25a19fbe0a9132dfb9279d48d161753c6352f8f9478c2e74383d340069b907c3"
   }
  }
 },
 "nbformat": 4,
 "nbformat_minor": 2
}
