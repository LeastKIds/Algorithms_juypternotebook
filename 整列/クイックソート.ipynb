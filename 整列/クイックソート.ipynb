{
 "cells": [
  {
   "cell_type": "code",
   "execution_count": 3,
   "metadata": {
    "collapsed": true
   },
   "outputs": [
    {
     "ename": "KeyboardInterrupt",
     "evalue": "",
     "output_type": "error",
     "traceback": [
      "\u001B[0;31m---------------------------------------------------------------------------\u001B[0m",
      "\u001B[0;31mKeyboardInterrupt\u001B[0m                         Traceback (most recent call last)",
      "Input \u001B[0;32mIn [3]\u001B[0m, in \u001B[0;36m<cell line: 25>\u001B[0;34m()\u001B[0m\n\u001B[1;32m     22\u001B[0m     quick_sort(array, start, right \u001B[38;5;241m-\u001B[39m \u001B[38;5;241m1\u001B[39m)\n\u001B[1;32m     23\u001B[0m     quick_sort(array, right \u001B[38;5;241m+\u001B[39m \u001B[38;5;241m1\u001B[39m, end)\n\u001B[0;32m---> 25\u001B[0m \u001B[43mquick_sort\u001B[49m\u001B[43m(\u001B[49m\u001B[43marray\u001B[49m\u001B[43m,\u001B[49m\u001B[43m \u001B[49m\u001B[38;5;241;43m0\u001B[39;49m\u001B[43m,\u001B[49m\u001B[43m \u001B[49m\u001B[38;5;28;43mlen\u001B[39;49m\u001B[43m(\u001B[49m\u001B[43marray\u001B[49m\u001B[43m)\u001B[49m\u001B[43m \u001B[49m\u001B[38;5;241;43m-\u001B[39;49m\u001B[43m \u001B[49m\u001B[38;5;241;43m1\u001B[39;49m\u001B[43m)\u001B[49m\n\u001B[1;32m     26\u001B[0m \u001B[38;5;28mprint\u001B[39m(array)\n",
      "Input \u001B[0;32mIn [3]\u001B[0m, in \u001B[0;36mquick_sort\u001B[0;34m(array, start, end)\u001B[0m\n\u001B[1;32m     13\u001B[0m     left \u001B[38;5;241m+\u001B[39m\u001B[38;5;241m=\u001B[39m \u001B[38;5;241m1\u001B[39m\n\u001B[1;32m     14\u001B[0m \u001B[38;5;66;03m# pivotより小さなデータを探すまで繰り返し\u001B[39;00m\n\u001B[0;32m---> 15\u001B[0m \u001B[38;5;28;01mwhile\u001B[39;00m right \u001B[38;5;241m>\u001B[39m start \u001B[38;5;129;01mand\u001B[39;00m array[right] \u001B[38;5;241m>\u001B[39m\u001B[38;5;241m=\u001B[39m \u001B[43marray\u001B[49m\u001B[43m[\u001B[49m\u001B[43mpivot\u001B[49m\u001B[43m]\u001B[49m:\n\u001B[1;32m     16\u001B[0m     right \u001B[38;5;241m-\u001B[39m\u001B[38;5;241m=\u001B[39m \u001B[38;5;241m1\u001B[39m\n\u001B[1;32m     17\u001B[0m     \u001B[38;5;28;01mif\u001B[39;00m left \u001B[38;5;241m>\u001B[39m right:    \u001B[38;5;66;03m# 行き交ったら小さなデータと大きなデータを交替\u001B[39;00m\n",
      "\u001B[0;31mKeyboardInterrupt\u001B[0m: "
     ]
    }
   ],
   "source": [
    "array = [5, 7, 9, 0, 3, 1, 6, 2, 4, 8]\n",
    "\n",
    "def quick_sort(array, start, end):\n",
    "    if start >= end:    # 数が一つの場合、終了\n",
    "        return\n",
    "\n",
    "    pivot = start   # pivotは一番目\n",
    "    left = start + 1\n",
    "    right = end\n",
    "    while left <= right:\n",
    "        # pivotより大きなデータを探すまで繰り返し\n",
    "        while left <= end and array[left] <= array[pivot]:\n",
    "            left += 1\n",
    "        # pivotより小さなデータを探すまで繰り返し\n",
    "        while right > start and array[right] >= array[pivot]:\n",
    "            right -= 1\n",
    "            if left > right:    # 行き交ったら小さなデータと大きなデータを交替\n",
    "                array[right], array[pivot] = array[pivot], array[right]\n",
    "            else:   #　行き交わなかったら、小さなデータと大きなデータを交替\n",
    "                array[left], array[right] = array[right], array[left]\n",
    "    # 分割以降、左側と右側でそれぞれ整列随行\n",
    "    quick_sort(array, start, right - 1)\n",
    "    quick_sort(array, right + 1, end)\n",
    "\n",
    "quick_sort(array, 0, len(array) - 1)\n",
    "print(array)"
   ]
  },
  {
   "cell_type": "code",
   "execution_count": 2,
   "outputs": [
    {
     "name": "stdout",
     "output_type": "stream",
     "text": [
      "[0, 1, 2, 3, 4, 5, 6, 7, 8, 9]\n"
     ]
    }
   ],
   "source": [
    "array = [5, 7, 9, 0, 3, 1, 6, 2, 4, 8]\n",
    "\n",
    "def quick_sort(array):\n",
    "    # リストが一つ以下の内容を持っていると終了\n",
    "    if len(array) <= 1:\n",
    "        return array\n",
    "\n",
    "    pivot = array[0]    # ピボットは一番目の内容\n",
    "    tail = array[1:]    # ピボットの以外のリスト\n",
    "\n",
    "    left_side = [x for x in tail if x <= pivot] # 分割された左側\n",
    "    right_side = [x for x in tail if x > pivot] # 分割された右側\n",
    "\n",
    "    # 分割以降、左側と右側でそれぞれ整列を随行し、全体のリストを返却\n",
    "    return quick_sort(left_side) + [pivot] + quick_sort(right_side)\n",
    "\n",
    "print(quick_sort(array))"
   ],
   "metadata": {
    "collapsed": false,
    "pycharm": {
     "name": "#%%\n"
    }
   }
  }
 ],
 "metadata": {
  "kernelspec": {
   "display_name": "Python 3",
   "language": "python",
   "name": "python3"
  },
  "language_info": {
   "codemirror_mode": {
    "name": "ipython",
    "version": 2
   },
   "file_extension": ".py",
   "mimetype": "text/x-python",
   "name": "python",
   "nbconvert_exporter": "python",
   "pygments_lexer": "ipython2",
   "version": "2.7.6"
  }
 },
 "nbformat": 4,
 "nbformat_minor": 0
}