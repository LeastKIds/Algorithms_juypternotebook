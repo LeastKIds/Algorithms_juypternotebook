{
 "cells": [
  {
   "cell_type": "markdown",
   "metadata": {
    "collapsed": true,
    "pycharm": {
     "name": "#%% md\n"
    }
   },
   "source": [
    "# 二つの配列のデータ交替\n",
    "## 入力条件\n",
    "- 一列目にN、Kが空白で区別されて入力される(1 <= N <= 100,000, 0 <= K <= N)\n",
    "- 二列目に配列Aの内容が空白で区別されて入力される。全ての内容は10,000,000より小さな自然数である。\n",
    "- 三列目に配列Bの内容が空白で区別されて入力される。全ての内容は10,000,000より小さな自然数である。\n",
    "\n",
    "## 出力条件\n",
    "- 最大K番の繰り返し演算を遂行して作られる配列Aの全ての内容の合計の最大値を出力する"
   ]
  },
  {
   "cell_type": "code",
   "execution_count": 2,
   "outputs": [
    {
     "name": "stdout",
     "output_type": "stream",
     "text": [
      "[6, 6, 5, 4, 5]\n"
     ]
    }
   ],
   "source": [
    "n, k = map(int, input().split())\n",
    "a = list(map(int, input().split()))\n",
    "b = list(map(int, input().split()))\n",
    "\n",
    "a.sort()\n",
    "b.sort(reverse = True)\n",
    "\n",
    "for i in range(k):\n",
    "    if a[i] < b[i]:\n",
    "        a[i], b[i] = b[i], a[i]\n",
    "    else:\n",
    "        break\n",
    "\n",
    "print(sum(a))"
   ],
   "metadata": {
    "collapsed": false,
    "pycharm": {
     "name": "#%%\n"
    }
   }
  }
 ],
 "metadata": {
  "kernelspec": {
   "display_name": "Python 3",
   "language": "python",
   "name": "python3"
  },
  "language_info": {
   "codemirror_mode": {
    "name": "ipython",
    "version": 2
   },
   "file_extension": ".py",
   "mimetype": "text/x-python",
   "name": "python",
   "nbconvert_exporter": "python",
   "pygments_lexer": "ipython2",
   "version": "2.7.6"
  }
 },
 "nbformat": 4,
 "nbformat_minor": 0
}