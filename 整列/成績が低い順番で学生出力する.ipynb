{
 "cells": [
  {
   "cell_type": "markdown",
   "metadata": {
    "collapsed": true,
    "pycharm": {
     "name": "#%% md\n"
    }
   },
   "source": [
    "# 成績が低い順番で学生出力する\n",
    "## 入力条件\n",
    "- 一列目に学生数Nが入力される。(1 <= N <= 100,000)\n",
    "- 二列目からN+1列目には学生の名前を表れる文字列Aと学生の成績を表れる整数Bが空白で区分されて、入力される。文字列Aの長さと学生の成績は100以下の自然数である。\n",
    "## 出力条件\n",
    "- 全ての学生の名前を成績が低い順番で出力する。成績が同じ学生の順番は自由に出力してもいい。"
   ]
  },
  {
   "cell_type": "code",
   "execution_count": 2,
   "outputs": [
    {
     "name": "stdout",
     "output_type": "stream",
     "text": [
      "홍길동 이순신 "
     ]
    }
   ],
   "source": [
    "n = int(input())\n",
    "\n",
    "array = []\n",
    "for i in range(n):\n",
    "    input_data = input().split()\n",
    "\n",
    "    array.append((input_data[0], input_data[1]))\n",
    "\n",
    "def settings(data):\n",
    "    return data[1]\n",
    "\n",
    "array = sorted(array, key=settings)\n",
    "\n",
    "for student in array:\n",
    "    print(student[0], end=\" \")"
   ],
   "metadata": {
    "collapsed": false,
    "pycharm": {
     "name": "#%%\n"
    }
   }
  }
 ],
 "metadata": {
  "kernelspec": {
   "display_name": "Python 3",
   "language": "python",
   "name": "python3"
  },
  "language_info": {
   "codemirror_mode": {
    "name": "ipython",
    "version": 2
   },
   "file_extension": ".py",
   "mimetype": "text/x-python",
   "name": "python",
   "nbconvert_exporter": "python",
   "pygments_lexer": "ipython2",
   "version": "2.7.6"
  }
 },
 "nbformat": 4,
 "nbformat_minor": 0
}