{
 "cells": [
  {
   "cell_type": "code",
   "execution_count": null,
   "metadata": {
    "collapsed": true
   },
   "outputs": [],
   "source": [
    "# シーケンシャルサーチのソースコード実装\n",
    "def sequential_search(n, target, array):\n",
    "    # 各内容を一つずつ確認しながら\n",
    "    for i in range(n):\n",
    "        # 現在の内容が探したい内容と同じ場合\n",
    "        if array[i] == target:\n",
    "            return i + 1    # 現在の位置を返却(インデックスは０から始まるから１を足す)\n",
    "\n",
    "print(\"生成する内容の個数を入力したあと、次の一つ缶を分かち書きにして探す文字列を入力してください。\")\n",
    "input_data = input().split()\n",
    "n = int(input_data[0])  # 内容の個数\n",
    "target = int(input_data[1]) # 探したい文字列\n",
    "\n",
    "print(\"先立って書いた内容の個数ほど文字列を入力してください。区別は分かち書きにします。\")\n",
    "array = input().split()\n",
    "\n",
    "# シーケンシャルサーチの遂行結果出力\n",
    "print(sequential_search(n, target, array))"
   ]
  }
 ],
 "metadata": {
  "kernelspec": {
   "display_name": "Python 3",
   "language": "python",
   "name": "python3"
  },
  "language_info": {
   "codemirror_mode": {
    "name": "ipython",
    "version": 2
   },
   "file_extension": ".py",
   "mimetype": "text/x-python",
   "name": "python",
   "nbconvert_exporter": "python",
   "pygments_lexer": "ipython2",
   "version": "2.7.6"
  }
 },
 "nbformat": 4,
 "nbformat_minor": 0
}