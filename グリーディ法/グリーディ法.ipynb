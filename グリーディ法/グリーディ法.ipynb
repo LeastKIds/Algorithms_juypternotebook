{
 "cells": [
  {
   "cell_type": "code",
   "execution_count": null,
   "metadata": {
    "collapsed": true
   },
   "outputs": [],
   "source": []
  },
  {
   "cell_type": "code",
   "execution_count": 1,
   "outputs": [
    {
     "ename": "ValueError",
     "evalue": "not enough values to unpack (expected 2, got 1)",
     "output_type": "error",
     "traceback": [
      "\u001B[0;31m---------------------------------------------------------------------------\u001B[0m",
      "\u001B[0;31mValueError\u001B[0m                                Traceback (most recent call last)",
      "Input \u001B[0;32mIn [1]\u001B[0m, in \u001B[0;36m<cell line: 1>\u001B[0;34m()\u001B[0m\n\u001B[0;32m----> 1\u001B[0m n, k \u001B[38;5;241m=\u001B[39m \u001B[38;5;28mmap\u001B[39m(\u001B[38;5;28mint\u001B[39m, \u001B[38;5;28minput\u001B[39m()\u001B[38;5;241m.\u001B[39msplit())\n\u001B[1;32m      3\u001B[0m result \u001B[38;5;241m=\u001B[39m \u001B[38;5;241m0\u001B[39m\n\u001B[1;32m      5\u001B[0m \u001B[38;5;66;03m# n이 k이상인 동안 루프를 돌면서 아래를 수행한다.\u001B[39;00m\n\u001B[1;32m      6\u001B[0m     \u001B[38;5;66;03m# 1. n이 k로 나누어질 때까지 1번씩빼면서 result를 1씩 증가시킨다.\u001B[39;00m\n\u001B[1;32m      7\u001B[0m     \u001B[38;5;66;03m# 2. n을 k로 나눈 값으로 설정하고 result를 1 증가시킨다.\u001B[39;00m\n",
      "\u001B[0;31mValueError\u001B[0m: not enough values to unpack (expected 2, got 1)"
     ]
    }
   ],
   "source": [
    "n, k = map(int, input().split())\n",
    "\n",
    "result = 0\n",
    "\n",
    "# n이 k이상인 동안 루프를 돌면서 아래를 수행한다.\n",
    "    # 1. n이 k로 나누어질 때까지 1번씩빼면서 result를 1씩 증가시킨다.\n",
    "    # 2. n을 k로 나눈 값으로 설정하고 result를 1 증가시킨다.\n",
    "while n >= k :\n",
    "    while n%k != 0:\n",
    "        n -+ 1\n",
    "        result += 1\n",
    "    n //= k\n",
    "    result += 1\n",
    "\n",
    "#n이 1보다 큰 동안 루프를 돌면서 아래를 수정\n",
    "    # n = n-1\n",
    "    # result += 1\n",
    "while n > 1 :\n",
    "        n -= 1\n",
    "        result += 1\n",
    "\n",
    "print(result)"
   ],
   "metadata": {
    "collapsed": false,
    "pycharm": {
     "name": "#%%\n"
    }
   }
  },
  {
   "cell_type": "code",
   "execution_count": null,
   "outputs": [],
   "source": [],
   "metadata": {
    "collapsed": false,
    "pycharm": {
     "name": "#%%\n"
    }
   }
  }
 ],
 "metadata": {
  "kernelspec": {
   "display_name": "Python 3",
   "language": "python",
   "name": "python3"
  },
  "language_info": {
   "codemirror_mode": {
    "name": "ipython",
    "version": 2
   },
   "file_extension": ".py",
   "mimetype": "text/x-python",
   "name": "python",
   "nbconvert_exporter": "python",
   "pygments_lexer": "ipython2",
   "version": "2.7.6"
  }
 },
 "nbformat": 4,
 "nbformat_minor": 0
}