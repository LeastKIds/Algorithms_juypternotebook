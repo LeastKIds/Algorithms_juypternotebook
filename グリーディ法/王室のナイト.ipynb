{
 "cells": [
  {
   "cell_type": "markdown",
   "metadata": {
    "collapsed": true,
    "pycharm": {
     "name": "#%% md\n"
    }
   },
   "source": [
    "### 王室のナイト\n",
    "１。一番目のラインに８*８座標の表面上で現在ナイトが位置したところの座標を表れる二つの文字で構成された文字列が入力される。入力文字はa1のように行と列になる\n",
    "２。一番目のラインにナイトが動かされる場合の数を出力してください。"
   ]
  },
  {
   "cell_type": "code",
   "execution_count": 8,
   "outputs": [
    {
     "name": "stdout",
     "output_type": "stream",
     "text": [
      "a1\n",
      "a2\n",
      "a3\n",
      "a4\n",
      "a5\n",
      "a6\n",
      "a7\n",
      "a8\n",
      "**********\n",
      "b1\n",
      "b2\n",
      "b3\n",
      "b4\n",
      "b5\n",
      "b6\n",
      "b7\n",
      "b8\n",
      "**********\n",
      "c1\n",
      "c2\n",
      "c3\n",
      "c4\n",
      "c5\n",
      "c6\n",
      "c7\n",
      "c8\n",
      "**********\n",
      "d1\n",
      "d2\n",
      "d3\n",
      "d4\n",
      "d5\n",
      "d6\n",
      "d7\n",
      "d8\n",
      "**********\n",
      "e1\n",
      "e2\n",
      "e3\n",
      "e4\n",
      "e5\n",
      "e6\n",
      "e7\n",
      "e8\n",
      "**********\n",
      "f1\n",
      "f2\n",
      "f3\n",
      "f4\n",
      "f5\n",
      "f6\n",
      "f7\n",
      "f8\n",
      "**********\n",
      "g1\n",
      "g2\n",
      "g3\n",
      "g4\n",
      "g5\n",
      "g6\n",
      "g7\n",
      "g8\n",
      "**********\n",
      "h1\n",
      "h2\n",
      "h3\n",
      "h4\n",
      "h5\n",
      "h6\n",
      "h7\n",
      "h8\n",
      "**********\n"
     ]
    }
   ],
   "source": [
    "arr = [[0] * 8] * 8\n",
    "column = ['1','2','3','4','5','6','7','8']\n",
    "row = ['a','b','c','d','e','f','g','h']\n",
    "\n",
    "for i in range(8):\n",
    "    # print(i)\n",
    "    for j in range(8):\n",
    "        # print(i, j)\n",
    "        arr[i][j] = row[i] + column[j]\n",
    "        print(arr[i][j])\n",
    "    # print(arr)\n",
    "    print(\"**********\")\n",
    "\n",
    "# print(arr)"
   ],
   "metadata": {
    "collapsed": false,
    "pycharm": {
     "name": "#%%\n"
    }
   }
  },
  {
   "cell_type": "code",
   "execution_count": 9,
   "outputs": [
    {
     "name": "stdout",
     "output_type": "stream",
     "text": [
      "2\n"
     ]
    }
   ],
   "source": [
    "# 例\n",
    "#　現在のナイトの位置を入力される。\n",
    "input_data = input()\n",
    "row = int(input_data[1])\n",
    "column = int(ord(input_data[0])) - int(ord('a')) + 1\n",
    "\n",
    "# ナイトが移動できる８個の方向正義\n",
    "steps = [(-2, -1), (-1, -2), (1, -2), (2, -1), (2, 1), (1, 2), (-1, 2), (-2, 1)]\n",
    "\n",
    "# ８個の方向について、それぞれの位置で移動できるか確認\n",
    "result = 0\n",
    "for step in steps:\n",
    "    # 移動しようとする位置確認\n",
    "    next_row = row + step[0]\n",
    "    next_column = column + step[1]\n",
    "    # 該当の位置で移動できるとカウント増加\n",
    "    if next_row >= 1 and next_row <= 8 and next_column >= 1 and next_column <= 8:\n",
    "        result += 1\n",
    "\n",
    "print(result)"
   ],
   "metadata": {
    "collapsed": false,
    "pycharm": {
     "name": "#%%\n"
    }
   }
  }
 ],
 "metadata": {
  "kernelspec": {
   "display_name": "Python 3",
   "language": "python",
   "name": "python3"
  },
  "language_info": {
   "codemirror_mode": {
    "name": "ipython",
    "version": 2
   },
   "file_extension": ".py",
   "mimetype": "text/x-python",
   "name": "python",
   "nbconvert_exporter": "python",
   "pygments_lexer": "ipython2",
   "version": "2.7.6"
  }
 },
 "nbformat": 4,
 "nbformat_minor": 0
}