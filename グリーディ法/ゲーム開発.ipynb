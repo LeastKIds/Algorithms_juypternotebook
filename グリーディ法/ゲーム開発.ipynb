{
 "cells": [
  {
   "cell_type": "markdown",
   "metadata": {
    "collapsed": true,
    "pycharm": {
     "name": "#%% md\n"
    }
   },
   "source": [
    "## ゲーム開発\n",
    "\n",
    "### 入力条件\n",
    "１、 一行目にマップの縦の大きさNと横の大きさMを空白で区分して入力する。(3 <= N, M <= 50)\n",
    "２、　二行目にゲームキャラクターがいる位置の座標(A, B)と眺める方向dがそれぞれお互いに空白で区分して与えられる。方向dの値では次のように４個で存在する。\n",
    "    - 0: 北の方\n",
    "    - 1: 東の方\n",
    "    - 2: 南の方\n",
    "    - 3: 西の方\n",
    "３、　三行目からマップが陸地か海かについた情報が与えられる。N個の列にマップの状態が北の方から南の方まで順番に、それぞれの列のデータは西の方から東の方まで順番に与えられる。マップの外角はいつも海になっている\n",
    "    - 0: 陸地\n",
    "    - 1: 海\n",
    "４、　初めて、ゲームのキャラクターが位置したところの状態はいつも陸地だ。\n",
    "\n",
    "\n",
    "### 出力条件\n",
    "一行目に移動を終えた後、キャラクターが訪問したところの数を出力する。"
   ]
  },
  {
   "cell_type": "code",
   "execution_count": 9,
   "outputs": [
    {
     "name": "stdout",
     "output_type": "stream",
     "text": [
      "3\n"
     ]
    }
   ],
   "source": [
    "row, column = map(int, input().split())\n",
    "xd, yd, direction = map(int, input().split())\n",
    "\n",
    "arr = []\n",
    "\n",
    "for r in range(row):\n",
    "    arr.append(list(map(int, input().split())))\n",
    "\n",
    "# print(arr[xd][yd])\n",
    "count = 1\n",
    "status = 0\n",
    "\n",
    "while True:\n",
    "    if direction == 0:\n",
    "        if status == 1:\n",
    "            if arr[xd][yd + 1] != 1:\n",
    "                yd += 1\n",
    "                continue\n",
    "            else:\n",
    "                break\n",
    "\n",
    "\n",
    "        if arr[xd -1][yd] != 1:\n",
    "            xd -= 1\n",
    "            count += 1\n",
    "            continue\n",
    "        else:\n",
    "            direction = 3\n",
    "            continue\n",
    "    elif direction == 3:\n",
    "        if arr[xd][yd + 1] != 1:\n",
    "            yd += 1\n",
    "            count += 1\n",
    "            continue\n",
    "        else:\n",
    "            direction = 2\n",
    "            continue\n",
    "    elif direction == 2:\n",
    "        if arr[xd + 1][yd] != 1:\n",
    "            xd += 1\n",
    "            count += 1\n",
    "            continue\n",
    "        else:\n",
    "            direction = 1\n",
    "            continue\n",
    "    elif direction == 1:\n",
    "        if arr[xd][yd - 1] != 1:\n",
    "            yd -= 1\n",
    "            count += 1\n",
    "            continue\n",
    "        else:\n",
    "            direction = 0\n",
    "            status = 1\n",
    "            continue\n",
    "\n",
    "print(count)"
   ],
   "metadata": {
    "collapsed": false,
    "pycharm": {
     "name": "#%%\n"
    }
   }
  },
  {
   "cell_type": "code",
   "execution_count": null,
   "outputs": [],
   "source": [
    "# 例\n",
    "# N、Mを空白で区分して入力させる。\n",
    "n, m = map(int, input().split())\n",
    "\n",
    "#　訪問した位置をセーブするためのマップをできて０で初期化\n",
    "d = [[0] * m for _ in rnage(n)]\n",
    "#　現在キャラクターのX座標、Y座標、方向を入力させる。\n",
    "x, y, direction = map(int, input().split())\n",
    "d[x][y] = 1 # 現在座標訪問処理\n",
    "\n",
    "# 全体マップの情報入力させる。\n",
    "array = []\n",
    "for i in range(n):\n",
    "    array.append(list(map(int, input().split())))\n",
    "\n",
    "# 北、東、南、西の方向正義\n",
    "dx = [-1, 0, 1, 0]\n",
    "dy = [0, 1, 0 , -1]\n",
    "\n",
    "# 左側に曲がる\n",
    "def turn_left():\n",
    "    global direction\n",
    "    direction -= 1\n",
    "    if direction == -1:\n",
    "        direction = 3\n",
    "\n",
    "# シミュレーション　スタト\n",
    "count = 1\n",
    "turn_time = 0\n",
    "while True:\n",
    "    # 左側に曲がる\n",
    "    turn_left()\n",
    "    nx = x + dx[direction]\n",
    "    ny = y + dy[direction]\n",
    "    # 曲がった後、正面に行って見ないところが存在する場合、移動\n",
    "    if d[nx][ny] == 0 and array[nx][ny] == 0:\n",
    "        d[nx][ny] = 1\n",
    "        x = nx\n",
    "        y = ny\n",
    "        count += 1\n",
    "        turn_time = 0\n",
    "        continue\n",
    "    # 曲がった後、正面に行って見ないところがなかったり海の場合\n",
    "    else:\n",
    "        turn_time += 1\n",
    "    # ４個の方向全部行けない場合\n",
    "    if turn_time == 4:\n",
    "        nx = x - dx[direction]\n",
    "        ny = y - dy[direction]\n",
    "        # 後ろで行けると移動する\n",
    "        if array[nx][ny] == 0:\n",
    "            x = nx\n",
    "            y = ny\n",
    "        #　後ろが海で塞がっている場合\n",
    "        else:\n",
    "            break\n",
    "        turn_time = 0\n",
    "\n",
    "# 正解出力\n",
    "print(count)"
   ],
   "metadata": {
    "collapsed": false,
    "pycharm": {
     "name": "#%%\n"
    }
   }
  }
 ],
 "metadata": {
  "kernelspec": {
   "display_name": "Python 3",
   "language": "python",
   "name": "python3"
  },
  "language_info": {
   "codemirror_mode": {
    "name": "ipython",
    "version": 2
   },
   "file_extension": ".py",
   "mimetype": "text/x-python",
   "name": "python",
   "nbconvert_exporter": "python",
   "pygments_lexer": "ipython2",
   "version": "2.7.6"
  }
 },
 "nbformat": 4,
 "nbformat_minor": 0
}