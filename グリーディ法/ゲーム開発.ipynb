{
 "cells": [
  {
   "cell_type": "markdown",
   "metadata": {
    "collapsed": true,
    "pycharm": {
     "name": "#%% md\n"
    }
   },
   "source": [
    "## ゲーム開発\n",
    "\n",
    "### 入力条件\n",
    "１、 一行目にマップの縦の大きさNと横の大きさMを空白で区分して入力する。(3 <= N, M <= 50)\n",
    "２、　二行目にゲームキャラクターがいる位置の座標(A, B)と眺める方向dがそれぞれお互いに空白で区分して与えられる。方向dの値では次のように４個で存在する。\n",
    "    - 0: 北の方\n",
    "    - 1: 東の方\n",
    "    - 2: 南の方\n",
    "    - 3: 西の方\n",
    "３、　三行目からマップが陸地か海かについた情報が与えられる。N個の列にマップの状態が北の方から南の方まで順番に、それぞれの列のデータは西の方から東の方まで順番に与えられる。マップの外角はいつも海になっている\n",
    "    - 0: 陸地\n",
    "    - 1: 海\n",
    "４、　初めて、ゲームのキャラクターが位置したところの状態はいつも陸地だ。\n",
    "\n",
    "\n",
    "### 出力条件\n",
    "一行目に移動を終えた後、キャラクターが訪問したところの数を出力する。"
   ]
  },
  {
   "cell_type": "code",
   "execution_count": 7,
   "outputs": [
    {
     "name": "stdout",
     "output_type": "stream",
     "text": [
      "0\n"
     ]
    }
   ],
   "source": [
    "row, column = map(int, input().split())\n",
    "xd, yd, direction = map(int, input().split())\n",
    "\n",
    "arr = []\n",
    "\n",
    "for r in range(row):\n",
    "    arr.append(list(map(int, input().split())))\n",
    "\n",
    "# print(arr[xd][yd])\n",
    "count = 0\n",
    "\n",
    "while True:\n",
    "    if direction == 0:\n",
    "        if arr[xd -1][yd] != 1:\n",
    "            xd -= 1\n",
    "            continue\n",
    "        else:\n",
    "            direction = 3\n",
    "            continue\n",
    "    elif direction == 3:\n",
    "        if arr[xd][yd + 1] != 1:\n",
    "            yd += 1\n",
    "            continue\n",
    "        else:\n",
    "            direction = 2\n",
    "            continue\n",
    "    elif direction == 2:\n",
    "        if arr[xd + 1][yd] != 1:\n",
    "            xd += 1\n",
    "            continue\n",
    "        else:\n",
    "            direction = 1\n",
    "            continue\n",
    "    elif direction == 1:\n",
    "        if arr[xd][yd - 1] != 1:\n",
    "            yd -= 1\n",
    "            continue\n",
    "        else:\n",
    "            direction\n",
    "\n"
   ],
   "metadata": {
    "collapsed": false,
    "pycharm": {
     "name": "#%%\n"
    }
   }
  }
 ],
 "metadata": {
  "kernelspec": {
   "display_name": "Python 3",
   "language": "python",
   "name": "python3"
  },
  "language_info": {
   "codemirror_mode": {
    "name": "ipython",
    "version": 2
   },
   "file_extension": ".py",
   "mimetype": "text/x-python",
   "name": "python",
   "nbconvert_exporter": "python",
   "pygments_lexer": "ipython2",
   "version": "2.7.6"
  }
 },
 "nbformat": 4,
 "nbformat_minor": 0
}