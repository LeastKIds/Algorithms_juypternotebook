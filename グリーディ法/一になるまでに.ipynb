{
 "cells": [
  {
   "cell_type": "markdown",
   "metadata": {
    "collapsed": true,
    "pycharm": {
     "name": "#%% md\n"
    }
   },
   "source": [
    "### 一になるまでに\n",
    "ある数のNが１になるまでに、次の二つの過程の中で一つを繰り返して選んで行おうと思っている。\n",
    "ただ、二番目の計算はNがKに割ることができる時だけ選択できる。\n",
    "    １。Nで１をひく\n",
    "    ２。NをKでわる\n",
    "\n",
    "NとKがある時、Nが１になるまでに１と２の過程をおこなわければならない最低の回数を求めてください。"
   ]
  },
  {
   "cell_type": "code",
   "execution_count": 3,
   "outputs": [
    {
     "name": "stdout",
     "output_type": "stream",
     "text": [
      "4\n"
     ]
    }
   ],
   "source": [
    "n, k = map(int, input().split())\n",
    "\n",
    "count = 0\n",
    "\n",
    "while True:\n",
    "    if n%k == 0:\n",
    "        n /= k\n",
    "        count += 1\n",
    "    else:\n",
    "        n -= 1\n",
    "        count += 1\n",
    "\n",
    "    if n == 1:\n",
    "        break\n",
    "\n",
    "print(count)"
   ],
   "metadata": {
    "collapsed": false,
    "pycharm": {
     "name": "#%%\n"
    }
   }
  },
  {
   "cell_type": "code",
   "execution_count": null,
   "outputs": [],
   "source": [
    "# 例１\n",
    "n, k = map(int, input().split())\n",
    "result = 0\n",
    "\n",
    "# NがK以上ならKで割り続く\n",
    "while n >= k:\n",
    "    # NがKで割ることができないとNで１ずつひく\n",
    "    while n % k != 0:\n",
    "        n -= 1\n",
    "        result += 1\n",
    "    # Kでわる\n",
    "    n //= k\n",
    "    result += 1\n",
    "\n",
    "# 最後に残った数について１ずつひく\n",
    "while n < 1:\n",
    "    n -= 1\n",
    "    result += 1\n",
    "\n",
    "print(result)"
   ],
   "metadata": {
    "collapsed": false,
    "pycharm": {
     "name": "#%%\n"
    }
   }
  },
  {
   "cell_type": "code",
   "execution_count": null,
   "outputs": [],
   "source": [
    "# 例２\n",
    "# N,Kを空白で区分して入力される\n",
    "n, k = map(int, input().split())\n",
    "result = 0\n",
    "\n",
    "while True:\n",
    "    # (N == Kで割り切れる数)になるまでに１ずつひく\n",
    "    target = (n // k) * k\n",
    "    result += (n - target)\n",
    "    n = target\n",
    "    # NがKより小さい時、（もう割られない時）反復文for文脱出\n",
    "    if n < k:\n",
    "        break\n",
    "    # Kでわる\n",
    "    result += 1\n",
    "    n //= k\n",
    "\n",
    "#最後で残った数について１ずつひく\n",
    "result += (n - 1)\n",
    "print(result)"
   ],
   "metadata": {
    "collapsed": false,
    "pycharm": {
     "name": "#%%\n"
    }
   }
  }
 ],
 "metadata": {
  "kernelspec": {
   "display_name": "Python 3",
   "language": "python",
   "name": "python3"
  },
  "language_info": {
   "codemirror_mode": {
    "name": "ipython",
    "version": 2
   },
   "file_extension": ".py",
   "mimetype": "text/x-python",
   "name": "python",
   "nbconvert_exporter": "python",
   "pygments_lexer": "ipython2",
   "version": "2.7.6"
  }
 },
 "nbformat": 4,
 "nbformat_minor": 0
}