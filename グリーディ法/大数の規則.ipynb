{
 "cells": [
  {
   "cell_type": "code",
   "execution_count": 3,
   "metadata": {
    "collapsed": true
   },
   "outputs": [
    {
     "name": "stdout",
     "output_type": "stream",
     "text": [
      "[6, 5, 4, 4, 2]\n",
      "46\n"
     ]
    }
   ],
   "source": [
    "n, m, k = map(int, input().split())\n",
    "\n",
    "data = list(map(int, input().split()))\n",
    "\n",
    "data.sort(reverse=True)\n",
    "\n",
    "print(data)\n",
    "\n",
    "first = data[0]\n",
    "second = data[1]\n",
    "\n",
    "result = 0\n",
    "count = 0\n",
    "\n",
    "for i in range(m):\n",
    "    if count < k:\n",
    "        result += first\n",
    "        count += 1\n",
    "        continue\n",
    "    count = 0\n",
    "    result += second\n",
    "\n",
    "print(result)"
   ]
  },
  {
   "cell_type": "code",
   "execution_count": null,
   "outputs": [],
   "source": [
    "# 例\n",
    "\n",
    "# N, M, Kを空白で区分して入力もらう。\n",
    "n, m, k = map(int, input().split())\n",
    "# N個の数を空白で区分して入力もらう。\n",
    "data = list(map(int, input().split()))\n",
    "\n",
    "data.sort() # 入力もらった数を揃える。\n",
    "first = data[n-1] # 一番大きな数\n",
    "second = data[n-2] # 二番目の大きな数\n",
    "\n",
    "result = 0\n",
    "\n",
    "while True:\n",
    "    for i in range(k): #　一番大きな数をK度足す。\n",
    "        if m == 0 : #　mが０ならfor文脱出\n",
    "            break\n",
    "        result += first\n",
    "        m -= 1 # 足すたびに１ずつひく\n",
    "    if m == 0: # mが０ならfor文脱出\n",
    "        break\n",
    "    result += second #　二番目の大きな数を一度足す\n",
    "    m -= 1 # 足すたびに１ずつひく\n",
    "\n",
    "print(result) #　最後のリザルトを出力"
   ],
   "metadata": {
    "collapsed": false,
    "pycharm": {
     "name": "#%%\n"
    }
   }
  },
  {
   "cell_type": "code",
   "execution_count": null,
   "outputs": [],
   "source": [],
   "metadata": {
    "collapsed": false,
    "pycharm": {
     "name": "#%%\n"
    }
   }
  }
 ],
 "metadata": {
  "kernelspec": {
   "display_name": "Python 3",
   "language": "python",
   "name": "python3"
  },
  "language_info": {
   "codemirror_mode": {
    "name": "ipython",
    "version": 2
   },
   "file_extension": ".py",
   "mimetype": "text/x-python",
   "name": "python",
   "nbconvert_exporter": "python",
   "pygments_lexer": "ipython2",
   "version": "2.7.6"
  }
 },
 "nbformat": 4,
 "nbformat_minor": 0
}