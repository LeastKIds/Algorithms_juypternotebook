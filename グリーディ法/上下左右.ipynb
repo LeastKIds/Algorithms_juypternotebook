{
 "cells": [
  {
   "cell_type": "markdown",
   "metadata": {
    "collapsed": true,
    "pycharm": {
     "name": "#%% md\n"
    }
   },
   "source": [
    "### 上下左右\n",
    "１。一番目のラインに空間の大きさを表れるNが与えられる。(1 <= N <= 100)\n",
    "２。二番目のラインの旅行者Aが移る計画書内容が与えられる。 (1 <= 移動回数 <= 100)\n",
    "３。一番目のラインに旅行者Aが最終的に到着する地点の座標（X、Y）を空白で区分して出力する。"
   ]
  },
  {
   "cell_type": "code",
   "execution_count": 6,
   "outputs": [
    {
     "name": "stdout",
     "output_type": "stream",
     "text": [
      "3 4\n"
     ]
    }
   ],
   "source": [
    "n = int(input())\n",
    "data = list(input().split())\n",
    "\n",
    "arr = [[0] * n] * n\n",
    "l = 0\n",
    "r = 0\n",
    "\n",
    "for d in data:\n",
    "    if d == 'R' and r != (n-1):\n",
    "        r += 1\n",
    "    elif d == 'L' and r != 0:\n",
    "        r -= 1\n",
    "    elif d == 'U' and l != 0:\n",
    "        l -= 1\n",
    "    elif d == 'D' and l != (n-1):\n",
    "        l += 1\n",
    "\n",
    "print(l+1, r+1)"
   ],
   "metadata": {
    "collapsed": false,
    "pycharm": {
     "name": "#%%\n"
    }
   }
  },
  {
   "cell_type": "code",
   "execution_count": 8,
   "outputs": [
    {
     "name": "stdout",
     "output_type": "stream",
     "text": [
      "3 4\n"
     ]
    }
   ],
   "source": [
    "# 例１\n",
    "# Nを入力される。\n",
    "n = int(input())\n",
    "x, y = 1, 1\n",
    "plans = input().split()\n",
    "\n",
    "# L, R, U, D　についた移動方向\n",
    "dx = [0, 0, -1, 1]\n",
    "dy = [-1, 1, 0, 0]\n",
    "move_types = ['L', 'R', 'U', 'D']\n",
    "\n",
    "# 移動計画を１ずつ確認\n",
    "for plan in plans:\n",
    "    #　移動後、座標寡う\n",
    "    for i in range(len(move_types)):\n",
    "        if plan == move_types[i]:\n",
    "            nx = x + dx[i]\n",
    "            ny = y +dy[i]\n",
    "    # 空間を外す場合、無視\n",
    "    if nx < 1 or ny < 1 or nx > n or ny > n:\n",
    "        continue\n",
    "    #　移動行う\n",
    "    x, y = nx, ny\n",
    "\n",
    "print(x, y)"
   ],
   "metadata": {
    "collapsed": false,
    "pycharm": {
     "name": "#%%\n"
    }
   }
  }
 ],
 "metadata": {
  "kernelspec": {
   "display_name": "Python 3",
   "language": "python",
   "name": "python3"
  },
  "language_info": {
   "codemirror_mode": {
    "name": "ipython",
    "version": 2
   },
   "file_extension": ".py",
   "mimetype": "text/x-python",
   "name": "python",
   "nbconvert_exporter": "python",
   "pygments_lexer": "ipython2",
   "version": "2.7.6"
  }
 },
 "nbformat": 4,
 "nbformat_minor": 0
}