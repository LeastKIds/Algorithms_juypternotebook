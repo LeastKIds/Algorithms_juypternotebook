{
 "cells": [
  {
   "cell_type": "markdown",
   "metadata": {
    "collapsed": true,
    "pycharm": {
     "name": "#%% md\n"
    }
   },
   "source": [
    "### 숫자 카드 게임\n",
    "* 여러 게임 카드 중에서 가장 높은 숫자가 쓰인 카드 한장을 뽑는 게임\n",
    "* 게임의 룰을 지키며 카드를 뽀아야 하고 룰은 다음과 같다.\n",
    "    * 숫자가 쓰인 카드들이 N X　M 형태로 놓여있다. 이 때 N은 행의 개수, M은 열의 개수를 의미\n",
    "    * 뽑을 카드가 포함된 행을 선택\n",
    "    * 그행의 카드들 중 가장 숫자가 낮은 카드를 뽑아야 함\n",
    "* 따라서 처음 카드를 뽑을 행을 선택할 때, 그 행에서 가장 숫자가 낮은 카드를 뽑을 것을 고려해 최종적으로 가장 높은 숫자의 카드를 뽑을 수 있는 전략을 세워야 함.\n",
    "* 예를 들어 3 X 3 형태의 카드들이 다음과 같이 높여있다고 가정하다.\n",
    "\n",
    "    3   1   2\n",
    "    4   1   4\n",
    "    2   2   2\n",
    "* 이 경우에는 세 번재 행을 선택해서 숫자 2가 쓰여진 카드를 뽑는 것이 정답\n",
    "* **입력조건**\n",
    "    * 첫째 줄에 카드들이 놓인 행의 개수 N과 열의 개수 M이 공백을 기준으로 자연수로 주어진다. (1 <= N, M <=100)\n",
    "    * 둘째 줄 부터 N개의 줄에 걸쳐서 각각 카드에 적인 숫자가 주어진다. 각 숫자는 1이상, 10,000이하의 자연수\n",
    "* **출력조건**\n",
    "    * 첫째 줄에 게임의 룰에 맞게 선택한 카드에 적힌 숫자를 출력한다.\n",
    "\n",
    "* **입력예시 1**\n",
    "    3   3\n",
    "    3   1   2\n",
    "    4   1   4\n",
    "    2   2   2\n",
    "* **출력예시 1**\n",
    "    2\n",
    "\n",
    "* **입력예시 2**\n",
    "    2   4\n",
    "    7   3   1   8\n",
    "    3   3   3   4\n",
    "* **출력예시 2**\n",
    "    3"
   ]
  },
  {
   "cell_type": "code",
   "execution_count": 29,
   "outputs": [
    {
     "name": "stdout",
     "output_type": "stream",
     "text": [
      "3\n"
     ]
    }
   ],
   "source": [
    "n, m = map(int, input().split())\n",
    "data = [0] * n\n",
    "\n",
    "bigN = 0\n",
    "bigM = 0\n",
    "\n",
    "for i in range(n):\n",
    "    column_list = list(map(int, input().split()))\n",
    "    # print(column_list)\n",
    "    bigN = column_list[0]\n",
    "    for j in range(m):\n",
    "        # print(j)\n",
    "        if bigN > column_list[j]:\n",
    "            bigN = column_list[j]\n",
    "        # print(column_list[j])\n",
    "\n",
    "    data[i] = bigN\n",
    "\n",
    "data.sort(reverse=True)\n",
    "print(data[0])"
   ],
   "metadata": {
    "collapsed": false,
    "pycharm": {
     "name": "#%%\n"
    }
   }
  },
  {
   "cell_type": "code",
   "execution_count": null,
   "outputs": [],
   "source": [
    "# 例１\n",
    "# N,Mを空白で区分して入力もらう\n",
    "n, m = map(int, input().split())\n",
    "\n",
    "result = 0\n",
    "# 一行ずつ入力もらって確認\n",
    "for i in range(n):\n",
    "    data = list(map(int, input().split()))\n",
    "    # 現在のラインで　「一番小さな数」　探す\n",
    "    min_value = min(data)\n",
    "    # 「一番小さな数」の泣けで一番大きな数探す\n",
    "    result = max(result, min_value)\n",
    "\n",
    "print(result) #　最後のリザルト"
   ],
   "metadata": {
    "collapsed": false,
    "pycharm": {
     "name": "#%%\n"
    }
   }
  },
  {
   "cell_type": "code",
   "execution_count": null,
   "outputs": [],
   "source": [
    "# 例２\n",
    "# N,Mを空白で区分して入力もらう\n",
    "n, m = map(int, input().split())\n",
    "\n",
    "result = 0\n",
    "#　一行ずつ入力をもらって確認\n",
    "for i in range(n):\n",
    "    data = list(map(int, input().split()))\n",
    "    # 現在のラインで　「一番小さな数」　探す\n",
    "    main_value = 10001\n",
    "    for a in data:\n",
    "        min_value = min(min_value, a)\n",
    "    # 「一番小さな数」の中で一番大きな数探す\n",
    "    result - max(result, min_value)\n",
    "\n",
    "print(result) #　最後のリザルト"
   ],
   "metadata": {
    "collapsed": false,
    "pycharm": {
     "name": "#%%\n"
    }
   }
  }
 ],
 "metadata": {
  "kernelspec": {
   "display_name": "Python 3",
   "language": "python",
   "name": "python3"
  },
  "language_info": {
   "codemirror_mode": {
    "name": "ipython",
    "version": 2
   },
   "file_extension": ".py",
   "mimetype": "text/x-python",
   "name": "python",
   "nbconvert_exporter": "python",
   "pygments_lexer": "ipython2",
   "version": "2.7.6"
  }
 },
 "nbformat": 4,
 "nbformat_minor": 0
}