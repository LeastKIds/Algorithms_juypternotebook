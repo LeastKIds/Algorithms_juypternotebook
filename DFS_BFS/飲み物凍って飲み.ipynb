{
 "cells": [
  {
   "cell_type": "markdown",
   "metadata": {
    "collapsed": true,
    "pycharm": {
     "name": "#%% md\n"
    }
   },
   "source": [
    "# 飲み物凍って飲み\n",
    "## 入力条件\n",
    "・　一行目に氷型の縦の長さNと横の長さMがくれる。(１＜＝N、M＜＝1,000)\n",
    "・　二行目からN＋１行目まで氷型がくれる。\n",
    "・　この時、穴が開いた部分は０、そうではない部分は１だ。\n",
    "## 出力条件\n",
    "・　一度に作られるアイスクリムの数を出力"
   ]
  },
  {
   "cell_type": "code",
   "execution_count": 4,
   "outputs": [
    {
     "name": "stdout",
     "output_type": "stream",
     "text": [
      "0 0\n",
      "0 1\n",
      "1 1\n",
      "1 0\n",
      "0 0\n",
      "0 2\n",
      "1 1\n",
      "1 2\n",
      "0 1\n",
      "2 1\n",
      "1 1\n",
      "1 3\n",
      "3 0\n",
      "3 2\n",
      "2 1\n",
      "4 1\n",
      "0 2\n",
      "2 2\n",
      "0 0\n",
      "2 0\n",
      "1 0\n",
      "1 0\n",
      "2 0\n",
      "3 0\n",
      "4 0\n",
      "0 3\n",
      "3 1\n",
      "2 0\n",
      "4 0\n",
      "0 1\n",
      "1 1\n",
      "2 1\n",
      "3 1\n",
      "4 1\n",
      "0 2\n",
      "1 2\n",
      "2 2\n",
      "3 2\n",
      "4 2\n",
      "0 3\n",
      "1 3\n",
      "2 3\n",
      "3 1\n",
      "3 3\n",
      "3 2\n",
      "2 3\n",
      "4 3\n",
      "3 3\n",
      "2 2\n",
      "4 2\n",
      "3 3\n",
      "4 3\n",
      "3\n"
     ]
    }
   ],
   "source": [
    "n, m = map(int, input().split())\n",
    "array = []\n",
    "\n",
    "for i in range(n):\n",
    "    column = list(map(int, input()))\n",
    "    array.append(column)\n",
    "\n",
    "count = 0\n",
    "\n",
    "def dfs(y, x):\n",
    "\n",
    "    if x<0 or x>=m or y<0 or y>=n:\n",
    "        return False\n",
    "    if array[y][x] == 0:\n",
    "        array[y][x] = 1\n",
    "        # 一旦ここまでくると、絶対一つのアイスクリームはあります。\n",
    "        # 以下の部分はあまり部分を全部１で変わる部分\n",
    "        dfs(x-1, y)\n",
    "        dfs(x+1, y)\n",
    "        dfs(x, y-1)\n",
    "        dfs(x, y+1)\n",
    "        return True\n",
    "    return False\n",
    "\n",
    "for i in range(n):\n",
    "    for j in range(m):\n",
    "        if dfs(i, j):\n",
    "            count += 1\n",
    "\n",
    "print(count)"
   ],
   "metadata": {
    "collapsed": false,
    "pycharm": {
     "name": "#%%\n"
    }
   }
  }
 ],
 "metadata": {
  "kernelspec": {
   "display_name": "Python 3",
   "language": "python",
   "name": "python3"
  },
  "language_info": {
   "codemirror_mode": {
    "name": "ipython",
    "version": 2
   },
   "file_extension": ".py",
   "mimetype": "text/x-python",
   "name": "python",
   "nbconvert_exporter": "python",
   "pygments_lexer": "ipython2",
   "version": "2.7.6"
  }
 },
 "nbformat": 4,
 "nbformat_minor": 0
}