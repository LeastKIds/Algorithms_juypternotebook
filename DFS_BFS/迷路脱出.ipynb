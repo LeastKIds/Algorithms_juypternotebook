{
 "cells": [
  {
   "cell_type": "markdown",
   "metadata": {
    "collapsed": true,
    "pycharm": {
     "name": "#%% md\n"
    }
   },
   "source": [
    "# 迷路脱出\n",
    "## 入力条件\n",
    "・　一行目に二つの整数N,M(4<=N, M<=200)がくれる。次のN行目にはそれぞれM個の整数(0あるいは１）で迷路の情報がくれる。それぞれの数は空白なくてついて入力で提示される。またスタート缶とエンド缶はいつも１だ\n",
    "## 出力条件\n",
    "・　一行目に最低移動缶の数を出力する。"
   ]
  },
  {
   "cell_type": "code",
   "execution_count": 1,
   "outputs": [
    {
     "name": "stdout",
     "output_type": "stream",
     "text": [
      "[[1, 0, 1, 0, 1, 0], [1, 1, 1, 1, 1, 1], [0, 0, 0, 0, 0, 1], [1, 1, 1, 1, 1, 1], [1, 1, 1, 1, 1, 1]]\n"
     ]
    }
   ],
   "source": [
    "n, m = map(int, input().split())\n",
    "\n",
    "array = []\n",
    "for i in range(n):\n",
    "    array.append(list(map(int, input())))\n",
    "\n",
    "def bfs(x,y):\n",
    "    if x>m or y>n or array[x][y] == 0:\n",
    "        return False\n",
    "\n",
    "    if array[x+1][y] == 0:\n",
    "        return False\n",
    "    else:\n",
    "        array[x+1][y] += 1\n",
    "        bfs(x+1, y)\n",
    "\n"
   ],
   "metadata": {
    "collapsed": false,
    "pycharm": {
     "name": "#%%\n"
    }
   }
  },
  {
   "cell_type": "code",
   "execution_count": null,
   "outputs": [],
   "source": [
    "# 例１\n",
    "from collections import deque\n",
    "#N, Mを空白に区別して入力受ける\n",
    "n, m = map(int, input().split())\n",
    "# 2次元のリストのマップ情報受ける\n",
    "graph = []\n",
    "for i in range(n):\n",
    "    graph.append(list(map(int, input())))\n",
    "\n",
    "# 移動する４方向の定義（上、下、左、右）\n",
    "dx = [-1, 1, 0, 0]\n",
    "dy = [0, 0, -1, 1]\n",
    "\n",
    "# BFSソースコード実装\n",
    "def bfs(x, y):\n",
    "    # キュー（Queue）実装のためにdequeライブラリを使用\n",
    "    queue = deque()\n",
    "    queue.append( (x,y) )\n",
    "    # キューが空くまでに繰り返し\n",
    "    while queue:\n",
    "        x, y = queue.popleft()\n",
    "        # 現在位置で４方向にの位置確認\n",
    "        for i in range(4):\n",
    "            nx = x + dx[i]\n",
    "            ny = y + dy[i]\n",
    "            #　迷路探しスペースを抜け出す場合、無視\n",
    "            if nx < 0 or ny < 0 or nx >= n or ny >= m:\n",
    "                continue\n",
    "            # 壁の場合、無視\n",
    "            if graph[nx][ny] == 0:\n",
    "                continue\n",
    "            # 該当ノードを初めて訪問する場合だけしか最短距離記録\n",
    "            if graph[nx][ny] == 1:\n",
    "                graph[nx][ny] = graph[x][y] + 1\n",
    "                queue.append( (nx, ny) )\n",
    "\n",
    "    # 一番右下までの最短距離返却\n",
    "    return graph[n-1][m-1]\n",
    "\n",
    "# BFSを実行した結果出力\n",
    "print( bfs(0, 0) )"
   ],
   "metadata": {
    "collapsed": false,
    "pycharm": {
     "name": "#%%\n"
    }
   }
  }
 ],
 "metadata": {
  "kernelspec": {
   "display_name": "Python 3",
   "language": "python",
   "name": "python3"
  },
  "language_info": {
   "codemirror_mode": {
    "name": "ipython",
    "version": 2
   },
   "file_extension": ".py",
   "mimetype": "text/x-python",
   "name": "python",
   "nbconvert_exporter": "python",
   "pygments_lexer": "ipython2",
   "version": "2.7.6"
  }
 },
 "nbformat": 4,
 "nbformat_minor": 0
}